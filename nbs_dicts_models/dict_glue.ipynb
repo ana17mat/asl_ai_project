{
 "cells": [
  {
   "cell_type": "code",
   "execution_count": 2,
   "id": "aebbe201",
   "metadata": {},
   "outputs": [],
   "source": [
    "import pickle\n",
    "#dict_a_to_t=pickle.load(open(\"dictletras_.pkl\", \"rb\"))"
   ]
  },
  {
   "cell_type": "code",
   "execution_count": 3,
   "id": "c7e062db",
   "metadata": {},
   "outputs": [],
   "source": [
    "def dict_glue(d1,d2):\n",
    "    dout=d1\n",
    "    for k in list(d2.keys()):\n",
    "        try:\n",
    "            dout[k]=d1[k]+d2[k]\n",
    "        except:\n",
    "            dout[k]=d2[k]  \n",
    "    return dout"
   ]
  },
  {
   "cell_type": "code",
   "execution_count": 4,
   "id": "c6ed7242",
   "metadata": {},
   "outputs": [],
   "source": [
    "dict_new={}"
   ]
  },
  {
   "cell_type": "code",
   "execution_count": 5,
   "id": "bf68779e",
   "metadata": {},
   "outputs": [],
   "source": [
    "dict_mais4=pickle.load(open(\"dictletras_mais4.pkl\", \"rb\"))\n",
    "dict_love=pickle.load(open(\"dictletras_love.pkl\", \"rb\"))\n",
    "dict_actual=pickle.load(open(\"dictletras_162030.pkl\", \"rb\"))"
   ]
  },
  {
   "cell_type": "code",
   "execution_count": 6,
   "id": "38e0626f",
   "metadata": {},
   "outputs": [],
   "source": [
    "dict_new=dict_glue(dict_new, dict_mais4)\n",
    "dict_new=dict_glue(dict_new, dict_love)\n",
    "dict_new=dict_glue(dict_new, dict_actual)"
   ]
  },
  {
   "cell_type": "code",
   "execution_count": null,
   "id": "ece9cc33",
   "metadata": {},
   "outputs": [],
   "source": []
  },
  {
   "cell_type": "code",
   "execution_count": null,
   "id": "f08f6d18",
   "metadata": {},
   "outputs": [],
   "source": []
  },
  {
   "cell_type": "code",
   "execution_count": 22,
   "id": "4da69aeb",
   "metadata": {},
   "outputs": [
    {
     "data": {
      "text/plain": [
       "[('m', 47),\n",
       " ('h', 26),\n",
       " ('g', 25),\n",
       " ('w', 20),\n",
       " ('o', 49),\n",
       " ('e', 34),\n",
       " ('u', 34),\n",
       " ('v', 32),\n",
       " ('k', 41),\n",
       " ('b', 24),\n",
       " ('c', 28),\n",
       " ('d', 21),\n",
       " ('f', 33),\n",
       " ('i', 28),\n",
       " ('j', 25),\n",
       " ('l', 41),\n",
       " ('p', 41),\n",
       " ('q', 31),\n",
       " ('s', 41),\n",
       " ('x', 31),\n",
       " ('y', 36),\n",
       " ('z', 20)]"
      ]
     },
     "execution_count": 22,
     "metadata": {},
     "output_type": "execute_result"
    }
   ],
   "source": [
    "#d=dict_new\n",
    "#[(k,len(d[k])) for k in list(d.keys()) if len(d[k])<50]"
   ]
  },
  {
   "cell_type": "code",
   "execution_count": null,
   "id": "1b4e082e",
   "metadata": {},
   "outputs": [],
   "source": []
  },
  {
   "cell_type": "code",
   "execution_count": 23,
   "id": "7fce30e0",
   "metadata": {},
   "outputs": [],
   "source": [
    "dict_mais5=pickle.load(open(\"dictletras_mais5.pkl\", \"rb\"))"
   ]
  },
  {
   "cell_type": "code",
   "execution_count": 24,
   "id": "f4134409",
   "metadata": {},
   "outputs": [],
   "source": [
    "dict_new=dict_glue(dict_new, dict_mais5)"
   ]
  },
  {
   "cell_type": "code",
   "execution_count": null,
   "id": "d97a919c",
   "metadata": {},
   "outputs": [],
   "source": []
  },
  {
   "cell_type": "code",
   "execution_count": 25,
   "id": "e817fbb5",
   "metadata": {},
   "outputs": [
    {
     "data": {
      "text/plain": [
       "1143"
      ]
     },
     "execution_count": 25,
     "metadata": {},
     "output_type": "execute_result"
    }
   ],
   "source": [
    "d=dict_new\n",
    "sum([len(d[k]) for k in list(d.keys())])"
   ]
  },
  {
   "cell_type": "code",
   "execution_count": null,
   "id": "3497916b",
   "metadata": {},
   "outputs": [],
   "source": []
  },
  {
   "cell_type": "code",
   "execution_count": 28,
   "id": "9990f0a1",
   "metadata": {},
   "outputs": [
    {
     "data": {
      "text/plain": [
       "[('a', 61),\n",
       " ('n', 74),\n",
       " ('m', 47),\n",
       " ('t', 51),\n",
       " ('h', 47),\n",
       " ('g', 44),\n",
       " ('w', 48),\n",
       " ('o', 49),\n",
       " ('r', 55),\n",
       " ('e', 39),\n",
       " ('u', 57),\n",
       " ('v', 52),\n",
       " ('k', 41),\n",
       " ('b', 24),\n",
       " ('c', 48),\n",
       " ('d', 21),\n",
       " ('f', 33),\n",
       " ('i', 28),\n",
       " ('j', 25),\n",
       " ('l', 41),\n",
       " ('p', 41),\n",
       " ('q', 31),\n",
       " ('s', 41),\n",
       " ('x', 31),\n",
       " ('y', 36),\n",
       " ('z', 20),\n",
       " ('love', 58)]"
      ]
     },
     "execution_count": 28,
     "metadata": {},
     "output_type": "execute_result"
    }
   ],
   "source": [
    "d=dict_new\n",
    "[(k,len(d[k])) for k in list(d.keys())]"
   ]
  },
  {
   "cell_type": "code",
   "execution_count": null,
   "id": "807a6739",
   "metadata": {},
   "outputs": [],
   "source": []
  },
  {
   "cell_type": "code",
   "execution_count": null,
   "id": "d2751b35",
   "metadata": {},
   "outputs": [],
   "source": []
  },
  {
   "cell_type": "code",
   "execution_count": null,
   "id": "33b96e77",
   "metadata": {},
   "outputs": [],
   "source": [
    "#dict_new=dict_glue(dict_new, dict_a_to_t)"
   ]
  },
  {
   "cell_type": "code",
   "execution_count": null,
   "id": "a1946d54",
   "metadata": {},
   "outputs": [],
   "source": [
    "#d=dict_more3\n",
    "#sum([len(d[k]) for k in list(d.keys())])"
   ]
  },
  {
   "cell_type": "code",
   "execution_count": 29,
   "id": "ddc4202f",
   "metadata": {},
   "outputs": [],
   "source": [
    "# f = open(\"dictletras_171304.pkl\",\"wb\")\n",
    "#         write the python object (dict) to pickle file\n",
    "# pickle.dump(dict_new,f)\n",
    "#         close file\n",
    "# f.close()"
   ]
  },
  {
   "cell_type": "code",
   "execution_count": 30,
   "id": "3badf993",
   "metadata": {},
   "outputs": [],
   "source": [
    "#dict_test=pickle.load(open(\"dictletras_xxxxx.pkl\", \"rb\"))"
   ]
  },
  {
   "cell_type": "code",
   "execution_count": 31,
   "id": "dd661707",
   "metadata": {},
   "outputs": [
    {
     "data": {
      "text/plain": [
       "1143"
      ]
     },
     "execution_count": 31,
     "metadata": {},
     "output_type": "execute_result"
    }
   ],
   "source": [
    "#d=dict_test\n",
    "#sum([len(d[k]) for k in list(d.keys())])"
   ]
  },
  {
   "cell_type": "code",
   "execution_count": null,
   "id": "77c64e12",
   "metadata": {},
   "outputs": [],
   "source": []
  }
 ],
 "metadata": {
  "kernelspec": {
   "display_name": "Python 3 (ipykernel)",
   "language": "python",
   "name": "python3"
  },
  "language_info": {
   "codemirror_mode": {
    "name": "ipython",
    "version": 3
   },
   "file_extension": ".py",
   "mimetype": "text/x-python",
   "name": "python",
   "nbconvert_exporter": "python",
   "pygments_lexer": "ipython3",
   "version": "3.9.7"
  }
 },
 "nbformat": 4,
 "nbformat_minor": 5
}
