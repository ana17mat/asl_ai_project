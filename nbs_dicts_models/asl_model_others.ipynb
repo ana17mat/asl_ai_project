{
 "cells": [
  {
   "cell_type": "code",
   "execution_count": 1,
   "id": "7cc6ef4d",
   "metadata": {},
   "outputs": [],
   "source": [
    "import pickle\n",
    "\n",
    "dict_asl = pickle.load(open(\"dictletras_171304.pkl\", \"rb\"))"
   ]
  },
  {
   "cell_type": "code",
   "execution_count": 2,
   "id": "4741417e",
   "metadata": {},
   "outputs": [],
   "source": [
    "dhl=[]\n",
    "for k in list(dict_asl.keys()):\n",
    "    for h in dict_asl[k]:\n",
    "        dict_h={}\n",
    "        for i in range(21):\n",
    "            dict_h['x'+str(i)]=h[i][0]\n",
    "            dict_h['y'+str(i)]=h[i][1]\n",
    "        dict_h['label']=k\n",
    "        dhl.append(dict_h)"
   ]
  },
  {
   "cell_type": "code",
   "execution_count": 3,
   "id": "3aa08e5d",
   "metadata": {},
   "outputs": [],
   "source": [
    "import pandas as pd\n",
    "dataframe_asl1=pd.DataFrame(dhl)"
   ]
  },
  {
   "cell_type": "code",
   "execution_count": 4,
   "id": "b5351983",
   "metadata": {},
   "outputs": [],
   "source": [
    "dataframe_asl_test=dataframe_asl1.copy()"
   ]
  },
  {
   "cell_type": "code",
   "execution_count": 5,
   "id": "82bf9fd0",
   "metadata": {},
   "outputs": [
    {
     "name": "stderr",
     "output_type": "stream",
     "text": [
      "/Users/anamatias/opt/anaconda3/lib/python3.9/site-packages/pandas/core/series.py:1056: SettingWithCopyWarning: \n",
      "A value is trying to be set on a copy of a slice from a DataFrame\n",
      "\n",
      "See the caveats in the documentation: https://pandas.pydata.org/pandas-docs/stable/user_guide/indexing.html#returning-a-view-versus-a-copy\n",
      "  cacher_needs_updating = self._check_is_chained_assignment_possible()\n"
     ]
    }
   ],
   "source": [
    "for row in range(897):\n",
    "    test_l=dataframe_asl_test.iloc[row]\n",
    "    for i in range(20,0,-1):\n",
    "        test_l['x'+str(i)]=test_l['x'+str(i)]-test_l['x'+str(i-1)]\n",
    "        test_l['y'+str(i)]=test_l['y'+str(i)]-test_l['y'+str(i-1)]\n",
    "    dataframe_asl_test.iloc[row]=test_l"
   ]
  },
  {
   "cell_type": "code",
   "execution_count": 6,
   "id": "f16aacd9",
   "metadata": {},
   "outputs": [],
   "source": [
    "dataframe_asl=dataframe_asl_test\n",
    "\n",
    "\n",
    "features = pd.DataFrame(dataframe_asl.drop('label', axis=1))\n",
    "\n",
    "labels = pd.Series(dataframe_asl['label'])"
   ]
  },
  {
   "cell_type": "code",
   "execution_count": null,
   "id": "de59c01b",
   "metadata": {},
   "outputs": [],
   "source": []
  },
  {
   "cell_type": "code",
   "execution_count": null,
   "id": "c08be8eb",
   "metadata": {},
   "outputs": [],
   "source": []
  },
  {
   "cell_type": "code",
   "execution_count": 54,
   "id": "d94febfd",
   "metadata": {},
   "outputs": [],
   "source": [
    "#from sklearn.model_selection import train_test_split\n",
    "#X_train, X_test, y_train, y_test = train_test_split(features, labels, test_size=0.9)\n",
    "\n",
    "\n",
    "X_train=features\n",
    "y_train=labels"
   ]
  },
  {
   "cell_type": "code",
   "execution_count": 55,
   "id": "897a77e8",
   "metadata": {},
   "outputs": [],
   "source": [
    "from sklearn.ensemble import RandomForestClassifier"
   ]
  },
  {
   "cell_type": "code",
   "execution_count": 56,
   "id": "efbfbb61",
   "metadata": {},
   "outputs": [],
   "source": [
    "rf_asl=RandomForestClassifier()"
   ]
  },
  {
   "cell_type": "code",
   "execution_count": 57,
   "id": "5df46f93",
   "metadata": {},
   "outputs": [
    {
     "data": {
      "text/plain": [
       "RandomForestClassifier()"
      ]
     },
     "execution_count": 57,
     "metadata": {},
     "output_type": "execute_result"
    }
   ],
   "source": [
    "rf_asl.fit(X_train, y_train)"
   ]
  },
  {
   "cell_type": "code",
   "execution_count": 58,
   "id": "2bd82c0b",
   "metadata": {},
   "outputs": [
    {
     "data": {
      "text/plain": [
       "1.0"
      ]
     },
     "execution_count": 58,
     "metadata": {},
     "output_type": "execute_result"
    }
   ],
   "source": [
    "rf_asl.score(X_train, y_train)"
   ]
  },
  {
   "cell_type": "code",
   "execution_count": 60,
   "id": "5f6347f4",
   "metadata": {},
   "outputs": [
    {
     "data": {
      "text/plain": [
       "1.0"
      ]
     },
     "execution_count": 60,
     "metadata": {},
     "output_type": "execute_result"
    }
   ],
   "source": [
    "rf_asl.score(X_test, y_test)"
   ]
  },
  {
   "cell_type": "code",
   "execution_count": 59,
   "id": "963ef26d",
   "metadata": {},
   "outputs": [],
   "source": [
    "#pickle.dump(rf_asl, open('rf_newo_171333.p','wb'))"
   ]
  },
  {
   "cell_type": "code",
   "execution_count": null,
   "id": "d1db3e72",
   "metadata": {},
   "outputs": [],
   "source": []
  }
 ],
 "metadata": {
  "kernelspec": {
   "display_name": "Python 3 (ipykernel)",
   "language": "python",
   "name": "python3"
  },
  "language_info": {
   "codemirror_mode": {
    "name": "ipython",
    "version": 3
   },
   "file_extension": ".py",
   "mimetype": "text/x-python",
   "name": "python",
   "nbconvert_exporter": "python",
   "pygments_lexer": "ipython3",
   "version": "3.9.7"
  }
 },
 "nbformat": 4,
 "nbformat_minor": 5
}
