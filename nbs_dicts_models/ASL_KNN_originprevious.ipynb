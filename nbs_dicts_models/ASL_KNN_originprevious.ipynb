{
 "cells": [
  {
   "cell_type": "code",
   "execution_count": null,
   "id": "cfd5473c",
   "metadata": {},
   "outputs": [],
   "source": [
    "import pickle\n",
    "\n",
    "dict_asl = pickle.load(open(\"dictletras_171304.pkl\", \"rb\"))"
   ]
  },
  {
   "cell_type": "code",
   "execution_count": null,
   "id": "dab5cfeb",
   "metadata": {},
   "outputs": [],
   "source": [
    "dhl=[]\n",
    "for k in list(dict_asl.keys()):\n",
    "    for h in dict_asl[k]:\n",
    "        dict_h={}\n",
    "        for i in range(21):\n",
    "            dict_h['x'+str(i)]=h[i][0]\n",
    "            dict_h['y'+str(i)]=h[i][1]\n",
    "        dict_h['label']=k\n",
    "        dhl.append(dict_h)"
   ]
  },
  {
   "cell_type": "code",
   "execution_count": null,
   "id": "0877d0a4",
   "metadata": {},
   "outputs": [],
   "source": [
    "import pandas as pd\n",
    "dataframe_asl1=pd.DataFrame(dhl)"
   ]
  },
  {
   "cell_type": "code",
   "execution_count": null,
   "id": "9b2461ec",
   "metadata": {},
   "outputs": [],
   "source": [
    "dataframe_asl_test=dataframe_asl1.copy()"
   ]
  },
  {
   "cell_type": "code",
   "execution_count": null,
   "id": "25b5df91",
   "metadata": {},
   "outputs": [],
   "source": [
    "dataframe_asl1.head()"
   ]
  },
  {
   "cell_type": "code",
   "execution_count": null,
   "id": "40d36628",
   "metadata": {},
   "outputs": [],
   "source": [
    "test_list=dataframe_asl_test.iloc[0]"
   ]
  },
  {
   "cell_type": "code",
   "execution_count": null,
   "id": "b5f81326",
   "metadata": {},
   "outputs": [],
   "source": [
    "for row in range(897):\n",
    "    test_l=dataframe_asl_test.iloc[row]\n",
    "    for i in range(20,0,-1):\n",
    "        test_l['x'+str(i)]=test_l['x'+str(i)]-test_l['x'+str(i-1)]\n",
    "        test_l['y'+str(i)]=test_l['y'+str(i)]-test_l['y'+str(i-1)]\n",
    "    dataframe_asl_test.iloc[row]=test_l"
   ]
  },
  {
   "cell_type": "code",
   "execution_count": null,
   "id": "f916f275",
   "metadata": {},
   "outputs": [],
   "source": [
    "dataframe_asl_test.head()"
   ]
  },
  {
   "cell_type": "code",
   "execution_count": null,
   "id": "b56f130c",
   "metadata": {},
   "outputs": [],
   "source": [
    "dataframe_asl1.head()"
   ]
  },
  {
   "cell_type": "code",
   "execution_count": null,
   "id": "e17e1c4c",
   "metadata": {},
   "outputs": [],
   "source": [
    "dataframe_asl=dataframe_asl_test\n",
    "\n",
    "\n",
    "features = pd.DataFrame(dataframe_asl.drop('label', axis=1))\n",
    "\n",
    "labels = pd.Series(dataframe_asl['label'])"
   ]
  },
  {
   "cell_type": "code",
   "execution_count": null,
   "id": "69587779",
   "metadata": {},
   "outputs": [],
   "source": [
    "from sklearn.model_selection import train_test_split"
   ]
  },
  {
   "cell_type": "code",
   "execution_count": null,
   "id": "f865fee1",
   "metadata": {},
   "outputs": [],
   "source": [
    "X_train=features\n",
    "y_train=labels"
   ]
  },
  {
   "cell_type": "code",
   "execution_count": null,
   "id": "d8225d60",
   "metadata": {},
   "outputs": [],
   "source": [
    "X_train, X_test, y_train, y_test = train_test_split(features, labels, test_size=0.10)"
   ]
  },
  {
   "cell_type": "code",
   "execution_count": null,
   "id": "6de7d2a2",
   "metadata": {},
   "outputs": [],
   "source": [
    "from sklearn. neighbors import KNeighborsClassifier\n",
    "\n",
    "knn = KNeighborsClassifier(n_neighbors=5)\n",
    "\n",
    "knn"
   ]
  },
  {
   "cell_type": "code",
   "execution_count": null,
   "id": "4a56c0d1",
   "metadata": {},
   "outputs": [],
   "source": [
    "knn.fit(X_train, y_train)"
   ]
  },
  {
   "cell_type": "code",
   "execution_count": null,
   "id": "5b4832ae",
   "metadata": {},
   "outputs": [],
   "source": [
    "knn.score(X_test, y_test)"
   ]
  },
  {
   "cell_type": "code",
   "execution_count": null,
   "id": "93e8a011",
   "metadata": {},
   "outputs": [],
   "source": [
    "import pickle\n",
    "\n",
    "pickle.dump(knn, open('knn_asl_171713_newo.p','wb'))"
   ]
  },
  {
   "cell_type": "code",
   "execution_count": null,
   "id": "8307a1a0",
   "metadata": {},
   "outputs": [],
   "source": []
  },
  {
   "cell_type": "code",
   "execution_count": null,
   "id": "c0182135",
   "metadata": {},
   "outputs": [],
   "source": [
    "new_o = 0\n",
    "new_o"
   ]
  },
  {
   "cell_type": "code",
   "execution_count": null,
   "id": "bc10187f",
   "metadata": {},
   "outputs": [],
   "source": [
    "pos = 0\n",
    "pos"
   ]
  },
  {
   "cell_type": "code",
   "execution_count": null,
   "id": "66d44246",
   "metadata": {},
   "outputs": [],
   "source": [
    "pos=[[1030, 709], [893, 671], [785, 558], [724, 467], [676, 409], [864, 368], [775, 247], [714, 192], [675, 168], [952, 333], [895, 188], [848, 124], [808, 85], [1029, 328], [986, 197], [945, 136], [911, 95], [1091, 352], [1071, 242], [1047, 193], [1030, 166]]"
   ]
  },
  {
   "cell_type": "code",
   "execution_count": null,
   "id": "b0ab036c",
   "metadata": {},
   "outputs": [],
   "source": [
    "pos"
   ]
  },
  {
   "cell_type": "code",
   "execution_count": null,
   "id": "8f4754db",
   "metadata": {},
   "outputs": [],
   "source": [
    "import copy\n",
    "new_o = copy.deepcopy(pos)"
   ]
  },
  {
   "cell_type": "code",
   "execution_count": null,
   "id": "26608f37",
   "metadata": {},
   "outputs": [],
   "source": []
  },
  {
   "cell_type": "code",
   "execution_count": null,
   "id": "a5462df0",
   "metadata": {},
   "outputs": [],
   "source": [
    "new_o"
   ]
  },
  {
   "cell_type": "code",
   "execution_count": null,
   "id": "40a68643",
   "metadata": {},
   "outputs": [],
   "source": [
    "for i in range(1,21):\n",
    "    new_o[i][0]=new_o[i][0]-new_o[i-1][0]\n",
    "    new_o[i][1]=new_o[i][1]-new_o[i-1][1]"
   ]
  },
  {
   "cell_type": "code",
   "execution_count": null,
   "id": "e2d190f0",
   "metadata": {},
   "outputs": [],
   "source": [
    "new_o"
   ]
  },
  {
   "cell_type": "code",
   "execution_count": null,
   "id": "280b2490",
   "metadata": {},
   "outputs": [],
   "source": [
    "pos"
   ]
  },
  {
   "cell_type": "code",
   "execution_count": null,
   "id": "c0d18321",
   "metadata": {},
   "outputs": [],
   "source": [
    "for i in range(20,-1,-1):\n",
    "    print(i)"
   ]
  },
  {
   "cell_type": "code",
   "execution_count": null,
   "id": "db9487ad",
   "metadata": {},
   "outputs": [],
   "source": [
    "pos[20][0]-pos[20-1][0]"
   ]
  },
  {
   "cell_type": "code",
   "execution_count": null,
   "id": "98970b4d",
   "metadata": {},
   "outputs": [],
   "source": [
    "new_o[20][0]"
   ]
  },
  {
   "cell_type": "code",
   "execution_count": null,
   "id": "a2e43bba",
   "metadata": {},
   "outputs": [],
   "source": []
  },
  {
   "cell_type": "code",
   "execution_count": null,
   "id": "13b35490",
   "metadata": {},
   "outputs": [],
   "source": [
    "pos"
   ]
  },
  {
   "cell_type": "code",
   "execution_count": null,
   "id": "e418c9d0",
   "metadata": {},
   "outputs": [],
   "source": [
    "originw = [[pos[0][0] - l[0], pos[0][1] - l[1]]\n",
    "                               for l in pos]"
   ]
  },
  {
   "cell_type": "code",
   "execution_count": null,
   "id": "54afd50d",
   "metadata": {},
   "outputs": [],
   "source": [
    "hpred = [item for sublist in originw for item in sublist]"
   ]
  },
  {
   "cell_type": "code",
   "execution_count": null,
   "id": "0a79fc31",
   "metadata": {},
   "outputs": [],
   "source": [
    "pos"
   ]
  },
  {
   "cell_type": "code",
   "execution_count": null,
   "id": "e28c0c6c",
   "metadata": {},
   "outputs": [],
   "source": [
    "import copy\n",
    "new_o = copy.deepcopy(pos)"
   ]
  },
  {
   "cell_type": "code",
   "execution_count": null,
   "id": "c89becd9",
   "metadata": {},
   "outputs": [],
   "source": [
    "for i in range(20,0,-1):\n",
    "    new_o[i][0]=new_o[i][0]-new_o[i-1][0]\n",
    "    new_o[i][1]=new_o[i][1]-new_o[i-1][1]\n",
    "    new_o[0][0]=0\n",
    "    new_o[0][1]=0"
   ]
  },
  {
   "cell_type": "code",
   "execution_count": null,
   "id": "c43fcaa7",
   "metadata": {},
   "outputs": [],
   "source": [
    "new_o"
   ]
  },
  {
   "cell_type": "code",
   "execution_count": null,
   "id": "19404b69",
   "metadata": {},
   "outputs": [],
   "source": [
    "originw = [[pos[0][0] - l[0], pos[0][1] - l[1]] for l in pos]\n",
    "originw"
   ]
  },
  {
   "cell_type": "code",
   "execution_count": null,
   "id": "e3ecc8c2",
   "metadata": {},
   "outputs": [],
   "source": [
    "test_l=dataframe_asl1.iloc[1]"
   ]
  },
  {
   "cell_type": "code",
   "execution_count": null,
   "id": "5ba30f97",
   "metadata": {},
   "outputs": [],
   "source": [
    "pos"
   ]
  },
  {
   "cell_type": "code",
   "execution_count": null,
   "id": "937615ef",
   "metadata": {},
   "outputs": [],
   "source": [
    "for i in range(20,0,-1):\n",
    "    new_o[i][0]=new_o[i][0]-new_o[i-1][0]\n",
    "    new_o[i][1]=new_o[i][1]-new_o[i-1][1]\n",
    "new_o[0]=[0,0]"
   ]
  },
  {
   "cell_type": "code",
   "execution_count": null,
   "id": "efad3d98",
   "metadata": {},
   "outputs": [],
   "source": [
    "new_o"
   ]
  },
  {
   "cell_type": "code",
   "execution_count": null,
   "id": "bedbe909",
   "metadata": {},
   "outputs": [],
   "source": [
    "new_o[0]=[0,0]"
   ]
  },
  {
   "cell_type": "code",
   "execution_count": null,
   "id": "e75972c4",
   "metadata": {},
   "outputs": [],
   "source": [
    "new_o"
   ]
  },
  {
   "cell_type": "code",
   "execution_count": null,
   "id": "d84dd551",
   "metadata": {},
   "outputs": [],
   "source": [
    "originw = [[pos[0][0] - l[0], pos[0][1] - l[1]]\n",
    "                              for l in pos]"
   ]
  },
  {
   "cell_type": "code",
   "execution_count": null,
   "id": "613e6f0c",
   "metadata": {},
   "outputs": [],
   "source": [
    "originw"
   ]
  },
  {
   "cell_type": "code",
   "execution_count": null,
   "id": "59861b4c",
   "metadata": {},
   "outputs": [],
   "source": []
  }
 ],
 "metadata": {
  "kernelspec": {
   "display_name": "Python 3 (ipykernel)",
   "language": "python",
   "name": "python3"
  },
  "language_info": {
   "codemirror_mode": {
    "name": "ipython",
    "version": 3
   },
   "file_extension": ".py",
   "mimetype": "text/x-python",
   "name": "python",
   "nbconvert_exporter": "python",
   "pygments_lexer": "ipython3",
   "version": "3.9.7"
  }
 },
 "nbformat": 4,
 "nbformat_minor": 5
}
