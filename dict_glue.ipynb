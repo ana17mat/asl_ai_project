{
 "cells": [
  {
   "cell_type": "code",
   "execution_count": 2,
   "id": "aebbe201",
   "metadata": {},
   "outputs": [],
   "source": [
    "import pickle\n",
    "dict_a_to_t=pickle.load(open(\"dictletras_a_to_t.pkl\", \"rb\"))\n",
    "dict_u_to_z=pickle.load(open(\"dictletras_u_to_z.pkl\", \"rb\"))\n",
    "dict_more1=pickle.load(open(\"dictletras_more1.pkl\", \"rb\"))\n",
    "dict_more2=pickle.load(open(\"dictletras_more2.pkl\", \"rb\"))\n",
    "dict_more3=pickle.load(open(\"dictletras_more3.pkl\", \"rb\"))"
   ]
  },
  {
   "cell_type": "code",
   "execution_count": 1,
   "id": "c7e062db",
   "metadata": {},
   "outputs": [],
   "source": [
    "def dict_glue(d1,d2):\n",
    "    dout=d1\n",
    "    for k in list(d2.keys()):\n",
    "        try:\n",
    "            dout[k]=d1[k]+d2[k]\n",
    "        except:\n",
    "            dout[k]=d2[k]  \n",
    "    return dout"
   ]
  },
  {
   "cell_type": "code",
   "execution_count": 3,
   "id": "c6ed7242",
   "metadata": {},
   "outputs": [],
   "source": [
    "dict_new={}"
   ]
  },
  {
   "cell_type": "code",
   "execution_count": 4,
   "id": "33b96e77",
   "metadata": {},
   "outputs": [],
   "source": [
    "dict_new=dict_glue(dict_new, dict_a_to_t)"
   ]
  },
  {
   "cell_type": "code",
   "execution_count": 5,
   "id": "35fd13a9",
   "metadata": {},
   "outputs": [],
   "source": [
    "dict_new=dict_glue(dict_new, dict_u_to_z)"
   ]
  },
  {
   "cell_type": "code",
   "execution_count": 6,
   "id": "390fac18",
   "metadata": {},
   "outputs": [],
   "source": [
    "dict_new=dict_glue(dict_new, dict_more1)"
   ]
  },
  {
   "cell_type": "code",
   "execution_count": 7,
   "id": "ea89ef4f",
   "metadata": {},
   "outputs": [],
   "source": [
    "dict_new=dict_glue(dict_new, dict_more2)"
   ]
  },
  {
   "cell_type": "code",
   "execution_count": 8,
   "id": "5fb0d481",
   "metadata": {},
   "outputs": [],
   "source": [
    "dict_new=dict_glue(dict_new, dict_more3)"
   ]
  },
  {
   "cell_type": "code",
   "execution_count": null,
   "id": "33fe7628",
   "metadata": {},
   "outputs": [],
   "source": []
  },
  {
   "cell_type": "code",
   "execution_count": 9,
   "id": "b4597ae1",
   "metadata": {},
   "outputs": [
    {
     "data": {
      "text/plain": [
       "547"
      ]
     },
     "execution_count": 9,
     "metadata": {},
     "output_type": "execute_result"
    }
   ],
   "source": [
    "d=dict_a_to_t\n",
    "sum([len(d[k]) for k in list(d.keys())])"
   ]
  },
  {
   "cell_type": "code",
   "execution_count": 10,
   "id": "9e49f6d4",
   "metadata": {},
   "outputs": [
    {
     "data": {
      "text/plain": [
       "165"
      ]
     },
     "execution_count": 10,
     "metadata": {},
     "output_type": "execute_result"
    }
   ],
   "source": [
    "d=dict_u_to_z\n",
    "sum([len(d[k]) for k in list(d.keys())])"
   ]
  },
  {
   "cell_type": "code",
   "execution_count": 11,
   "id": "5ab0066e",
   "metadata": {},
   "outputs": [
    {
     "data": {
      "text/plain": [
       "79"
      ]
     },
     "execution_count": 11,
     "metadata": {},
     "output_type": "execute_result"
    }
   ],
   "source": [
    "d=dict_more1\n",
    "sum([len(d[k]) for k in list(d.keys())])"
   ]
  },
  {
   "cell_type": "code",
   "execution_count": 12,
   "id": "ccc1b485",
   "metadata": {},
   "outputs": [
    {
     "data": {
      "text/plain": [
       "44"
      ]
     },
     "execution_count": 12,
     "metadata": {},
     "output_type": "execute_result"
    }
   ],
   "source": [
    "d=dict_more2\n",
    "sum([len(d[k]) for k in list(d.keys())])"
   ]
  },
  {
   "cell_type": "code",
   "execution_count": 13,
   "id": "a1946d54",
   "metadata": {},
   "outputs": [
    {
     "data": {
      "text/plain": [
       "21"
      ]
     },
     "execution_count": 13,
     "metadata": {},
     "output_type": "execute_result"
    }
   ],
   "source": [
    "d=dict_more3\n",
    "sum([len(d[k]) for k in list(d.keys())])"
   ]
  },
  {
   "cell_type": "code",
   "execution_count": 14,
   "id": "7a63b9c8",
   "metadata": {},
   "outputs": [
    {
     "data": {
      "text/plain": [
       "856"
      ]
     },
     "execution_count": 14,
     "metadata": {},
     "output_type": "execute_result"
    }
   ],
   "source": [
    "d=dict_new\n",
    "sum([len(d[k]) for k in list(d.keys())])"
   ]
  },
  {
   "cell_type": "code",
   "execution_count": 15,
   "id": "ddc4202f",
   "metadata": {},
   "outputs": [],
   "source": [
    "#f = open(\"dictletras_161800.pkl\",\"wb\")\n",
    "        # write the python object (dict) to pickle file\n",
    "#pickle.dump(dict_new,f)\n",
    "        # close file\n",
    "#f.close()"
   ]
  },
  {
   "cell_type": "code",
   "execution_count": 16,
   "id": "3badf993",
   "metadata": {},
   "outputs": [],
   "source": [
    "dict_test=pickle.load(open(\"dictletras_161800.pkl\", \"rb\"))"
   ]
  },
  {
   "cell_type": "code",
   "execution_count": 17,
   "id": "dd661707",
   "metadata": {},
   "outputs": [
    {
     "data": {
      "text/plain": [
       "856"
      ]
     },
     "execution_count": 17,
     "metadata": {},
     "output_type": "execute_result"
    }
   ],
   "source": [
    "d=dict_test\n",
    "sum([len(d[k]) for k in list(d.keys())])"
   ]
  },
  {
   "cell_type": "code",
   "execution_count": 3,
   "id": "ac94dd62",
   "metadata": {},
   "outputs": [],
   "source": [
    "import pickle\n",
    "dict_AA=pickle.load(open(\"dictletras_161800.pkl\", \"rb\"))\n",
    "dict_BB=pickle.load(open(\"dictletras_nnn.pkl\", \"rb\"))"
   ]
  },
  {
   "cell_type": "code",
   "execution_count": 5,
   "id": "37ca7038",
   "metadata": {},
   "outputs": [
    {
     "data": {
      "text/plain": [
       "41"
      ]
     },
     "execution_count": 5,
     "metadata": {},
     "output_type": "execute_result"
    }
   ],
   "source": [
    "d=dict_BB\n",
    "sum([len(d[k]) for k in list(d.keys())])"
   ]
  },
  {
   "cell_type": "code",
   "execution_count": 6,
   "id": "9c8a7834",
   "metadata": {},
   "outputs": [],
   "source": [
    "dict_NOVO=dict_glue(dict_AA,dict_BB)"
   ]
  },
  {
   "cell_type": "code",
   "execution_count": 7,
   "id": "759f9c71",
   "metadata": {},
   "outputs": [
    {
     "data": {
      "text/plain": [
       "897"
      ]
     },
     "execution_count": 7,
     "metadata": {},
     "output_type": "execute_result"
    }
   ],
   "source": [
    "d=dict_NOVO\n",
    "sum([len(d[k]) for k in list(d.keys())])"
   ]
  },
  {
   "cell_type": "code",
   "execution_count": 8,
   "id": "85d04d18",
   "metadata": {},
   "outputs": [],
   "source": [
    "f = open(\"dictletras_162030.pkl\",\"wb\")\n",
    "        # write the python object (dict) to pickle file\n",
    "pickle.dump(dict_NOVO,f)\n",
    "        # close file\n",
    "f.close()"
   ]
  },
  {
   "cell_type": "code",
   "execution_count": null,
   "id": "77c64e12",
   "metadata": {},
   "outputs": [],
   "source": []
  }
 ],
 "metadata": {
  "kernelspec": {
   "display_name": "Python 3 (ipykernel)",
   "language": "python",
   "name": "python3"
  },
  "language_info": {
   "codemirror_mode": {
    "name": "ipython",
    "version": 3
   },
   "file_extension": ".py",
   "mimetype": "text/x-python",
   "name": "python",
   "nbconvert_exporter": "python",
   "pygments_lexer": "ipython3",
   "version": "3.9.7"
  }
 },
 "nbformat": 4,
 "nbformat_minor": 5
}
