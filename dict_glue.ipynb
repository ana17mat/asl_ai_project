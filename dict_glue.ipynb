{
 "cells": [
  {
   "cell_type": "code",
   "execution_count": 2,
   "id": "aebbe201",
   "metadata": {},
   "outputs": [],
   "source": [
    "import pickle\n",
    "#dict_a_to_t=pickle.load(open(\"dictletras_.pkl\", \"rb\"))"
   ]
  },
  {
   "cell_type": "code",
   "execution_count": 3,
   "id": "c7e062db",
   "metadata": {},
   "outputs": [],
   "source": [
    "def dict_glue(d1,d2):\n",
    "    dout=d1\n",
    "    for k in list(d2.keys()):\n",
    "        try:\n",
    "            dout[k]=d1[k]+d2[k]\n",
    "        except:\n",
    "            dout[k]=d2[k]  \n",
    "    return dout"
   ]
  },
  {
   "cell_type": "code",
   "execution_count": 4,
   "id": "c6ed7242",
   "metadata": {},
   "outputs": [],
   "source": [
    "dict_new={}"
   ]
  },
  {
   "cell_type": "code",
   "execution_count": 5,
   "id": "161783df",
   "metadata": {},
   "outputs": [],
   "source": [
    "dict_mais4=pickle.load(open(\"dictletras_mais4.pkl\", \"rb\"))\n",
    "dict_love=pickle.load(open(\"dictletras_love.pkl\", \"rb\"))\n",
    "dict_actual=pickle.load(open(\"dictletras_162030.pkl\", \"rb\"))"
   ]
  },
  {
   "cell_type": "code",
   "execution_count": 6,
   "id": "5b654d98",
   "metadata": {},
   "outputs": [],
   "source": [
    "dict_new=dict_glue(dict_new, dict_mais4)\n",
    "dict_new=dict_glue(dict_new, dict_love)\n",
    "dict_new=dict_glue(dict_new, dict_actual)"
   ]
  },
  {
   "cell_type": "code",
   "execution_count": null,
   "id": "35a2386b",
   "metadata": {},
   "outputs": [],
   "source": []
  },
  {
   "cell_type": "code",
   "execution_count": null,
   "id": "0663908e",
   "metadata": {},
   "outputs": [],
   "source": []
  },
  {
   "cell_type": "code",
   "execution_count": 22,
   "id": "15840ec4",
   "metadata": {},
   "outputs": [
    {
     "data": {
      "text/plain": [
       "[('m', 47),\n",
       " ('h', 26),\n",
       " ('g', 25),\n",
       " ('w', 20),\n",
       " ('o', 49),\n",
       " ('e', 34),\n",
       " ('u', 34),\n",
       " ('v', 32),\n",
       " ('k', 41),\n",
       " ('b', 24),\n",
       " ('c', 28),\n",
       " ('d', 21),\n",
       " ('f', 33),\n",
       " ('i', 28),\n",
       " ('j', 25),\n",
       " ('l', 41),\n",
       " ('p', 41),\n",
       " ('q', 31),\n",
       " ('s', 41),\n",
       " ('x', 31),\n",
       " ('y', 36),\n",
       " ('z', 20)]"
      ]
     },
     "execution_count": 22,
     "metadata": {},
     "output_type": "execute_result"
    }
   ],
   "source": [
    "#d=dict_new\n",
    "#[(k,len(d[k])) for k in list(d.keys()) if len(d[k])<50]"
   ]
  },
  {
   "cell_type": "code",
   "execution_count": null,
   "id": "50ac87e4",
   "metadata": {},
   "outputs": [],
   "source": []
  },
  {
   "cell_type": "code",
   "execution_count": 23,
   "id": "8604e4f2",
   "metadata": {},
   "outputs": [],
   "source": [
    "dict_mais5=pickle.load(open(\"dictletras_mais5.pkl\", \"rb\"))"
   ]
  },
  {
   "cell_type": "code",
   "execution_count": 24,
   "id": "b76e08ab",
   "metadata": {},
   "outputs": [],
   "source": [
    "dict_new=dict_glue(dict_new, dict_mais5)"
   ]
  },
  {
   "cell_type": "code",
   "execution_count": null,
   "id": "9e429041",
   "metadata": {},
   "outputs": [],
   "source": []
  },
  {
   "cell_type": "code",
   "execution_count": 25,
   "id": "e72f5dd1",
   "metadata": {},
   "outputs": [
    {
     "data": {
      "text/plain": [
       "1143"
      ]
     },
     "execution_count": 25,
     "metadata": {},
     "output_type": "execute_result"
    }
   ],
   "source": [
    "d=dict_new\n",
    "sum([len(d[k]) for k in list(d.keys())])"
   ]
  },
  {
   "cell_type": "code",
   "execution_count": null,
   "id": "2c9bb72a",
   "metadata": {},
   "outputs": [],
   "source": []
  },
  {
   "cell_type": "code",
   "execution_count": 28,
   "id": "8e31102a",
   "metadata": {},
   "outputs": [
    {
     "data": {
      "text/plain": [
       "[('a', 61),\n",
       " ('n', 74),\n",
       " ('m', 47),\n",
       " ('t', 51),\n",
       " ('h', 47),\n",
       " ('g', 44),\n",
       " ('w', 48),\n",
       " ('o', 49),\n",
       " ('r', 55),\n",
       " ('e', 39),\n",
       " ('u', 57),\n",
       " ('v', 52),\n",
       " ('k', 41),\n",
       " ('b', 24),\n",
       " ('c', 48),\n",
       " ('d', 21),\n",
       " ('f', 33),\n",
       " ('i', 28),\n",
       " ('j', 25),\n",
       " ('l', 41),\n",
       " ('p', 41),\n",
       " ('q', 31),\n",
       " ('s', 41),\n",
       " ('x', 31),\n",
       " ('y', 36),\n",
       " ('z', 20),\n",
       " ('love', 58)]"
      ]
     },
     "execution_count": 28,
     "metadata": {},
     "output_type": "execute_result"
    }
   ],
   "source": [
    "d=dict_new\n",
    "[(k,len(d[k])) for k in list(d.keys())]"
   ]
  },
  {
   "cell_type": "code",
   "execution_count": null,
   "id": "9128b91a",
   "metadata": {},
   "outputs": [],
   "source": []
  },
  {
   "cell_type": "code",
   "execution_count": null,
   "id": "10095e21",
   "metadata": {},
   "outputs": [],
   "source": []
  },
  {
   "cell_type": "code",
   "execution_count": null,
   "id": "33b96e77",
   "metadata": {},
   "outputs": [],
   "source": [
    "#dict_new=dict_glue(dict_new, dict_a_to_t)"
   ]
  },
  {
   "cell_type": "code",
   "execution_count": null,
   "id": "a1946d54",
   "metadata": {},
   "outputs": [],
   "source": [
    "#d=dict_more3\n",
    "#sum([len(d[k]) for k in list(d.keys())])"
   ]
  },
  {
   "cell_type": "code",
   "execution_count": 29,
   "id": "ddc4202f",
   "metadata": {},
   "outputs": [],
   "source": [
    "f = open(\"dictletras_171304.pkl\",\"wb\")\n",
    "        # write the python object (dict) to pickle file\n",
    "pickle.dump(dict_new,f)\n",
    "        # close file\n",
    "f.close()"
   ]
  },
  {
   "cell_type": "code",
   "execution_count": null,
   "id": "3badf993",
   "metadata": {},
   "outputs": [],
   "source": [
    "dict_test=pickle.load(open(\"dictletras_161800.pkl\", \"rb\"))"
   ]
  },
  {
   "cell_type": "code",
   "execution_count": null,
   "id": "dd661707",
   "metadata": {},
   "outputs": [],
   "source": [
    "#d=dict_test\n",
    "#sum([len(d[k]) for k in list(d.keys())])"
   ]
  },
  {
   "cell_type": "code",
   "execution_count": null,
   "id": "77c64e12",
   "metadata": {},
   "outputs": [],
   "source": []
  }
 ],
 "metadata": {
  "kernelspec": {
   "display_name": "Python 3 (ipykernel)",
   "language": "python",
   "name": "python3"
  },
  "language_info": {
   "codemirror_mode": {
    "name": "ipython",
    "version": 3
   },
   "file_extension": ".py",
   "mimetype": "text/x-python",
   "name": "python",
   "nbconvert_exporter": "python",
   "pygments_lexer": "ipython3",
   "version": "3.9.7"
  }
 },
 "nbformat": 4,
 "nbformat_minor": 5
}
