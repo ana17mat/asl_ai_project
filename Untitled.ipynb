{
 "cells": [
  {
   "cell_type": "code",
   "execution_count": null,
   "id": "22b27dd7",
   "metadata": {},
   "outputs": [],
   "source": [
    "import pickle\n",
    "dict_a_to_t=pickle.load(open(\"dictletras_a_to_t.pkl\", \"rb\"))\n",
    "dict_u_to_z=pickle.load(open(\"dictletras_u_to_z.pkl\", \"rb\"))\n",
    "dict_more1=pickle.load(open(\"dictletras_more1.pkl\", \"rb\"))\n",
    "dict_more2=pickle.load(open(\"dictletras_more2.pkl\", \"rb\"))\n",
    "dict_more3=pickle.load(open(\"dictletras_more3.pkl\", \"rb\"))"
   ]
  },
  {
   "cell_type": "code",
   "execution_count": null,
   "id": "15ec1e8e",
   "metadata": {},
   "outputs": [],
   "source": [
    "def dict_glue(d1,d2):\n",
    "    dout=d1\n",
    "    for k in list(d2.keys()):\n",
    "        try:\n",
    "            dout[k]=d1[k]+d2[k]\n",
    "        except:\n",
    "            dout[k]=d2[k]  \n",
    "    return dout"
   ]
  },
  {
   "cell_type": "code",
   "execution_count": null,
   "id": "36002985",
   "metadata": {},
   "outputs": [],
   "source": []
  },
  {
   "cell_type": "code",
   "execution_count": null,
   "id": "e9e2391d",
   "metadata": {},
   "outputs": [],
   "source": []
  },
  {
   "cell_type": "code",
   "execution_count": null,
   "id": "1c8db0f1",
   "metadata": {},
   "outputs": [],
   "source": []
  }
 ],
 "metadata": {
  "kernelspec": {
   "display_name": "Python 3 (ipykernel)",
   "language": "python",
   "name": "python3"
  },
  "language_info": {
   "codemirror_mode": {
    "name": "ipython",
    "version": 3
   },
   "file_extension": ".py",
   "mimetype": "text/x-python",
   "name": "python",
   "nbconvert_exporter": "python",
   "pygments_lexer": "ipython3",
   "version": "3.9.7"
  }
 },
 "nbformat": 4,
 "nbformat_minor": 5
}
